{
 "cells": [
  {
   "cell_type": "markdown",
   "metadata": {},
   "source": [
    "## Lab 2 Exercise 1\n",
    "#### A teacher named Mrs. Rivera who loved making math fun for her students. One day, a student named Mia asked how to calculate powers, like (2^7). Mrs. Rivera explained, “Imagine you need to multiply 2 by itself seven times. We can solve this using a python code utilizing  special method called recursion to solve this,” \n",
    "### Can you help the class of Mrs. Rivera by providing the recursive method to calculate powers?"
   ]
  },
  {
   "cell_type": "code",
   "execution_count": 1,
   "metadata": {},
   "outputs": [
    {
     "name": "stdout",
     "output_type": "stream",
     "text": [
      "2^7 = 128\n"
     ]
    }
   ],
   "source": [
    "Base = 2\n",
    "Exponent = 7\n",
    "\n",
    "if Exponent == 0:\n",
    "    result = 1\n",
    "else: \n",
    "    result = Base\n",
    "    while Exponent > 1:\n",
    "        Base *= result\n",
    "        Exponent -= 1\n",
    "\n",
    "print (f\"2^7 = {Base}\")"
   ]
  },
  {
   "cell_type": "markdown",
   "metadata": {},
   "source": [
    "## Lab 2 Exercise 2\n",
    "#### compute for the cube of integers. "
   ]
  },
  {
   "cell_type": "code",
   "execution_count": 3,
   "metadata": {},
   "outputs": [
    {
     "name": "stdout",
     "output_type": "stream",
     "text": [
      "27\n",
      "1000\n",
      "8000\n"
     ]
    }
   ],
   "source": [
    "size_array = int(input(\"Enter how many size of the array\"))\n",
    "elements = []\n",
    "\n",
    "for i in range(size_array):\n",
    "    element = int(input(f\"Enter element {i+1}: \"))\n",
    "    elements.append(element)\n",
    "\n",
    "for element in elements:\n",
    "    print(element ** 3)"
   ]
  },
  {
   "cell_type": "markdown",
   "metadata": {},
   "source": [
    "## Lab 2 Exercise 3\n",
    "#### Generate a hollow square based on the + integer input side length n."
   ]
  },
  {
   "cell_type": "code",
   "execution_count": 5,
   "metadata": {},
   "outputs": [
    {
     "name": "stdout",
     "output_type": "stream",
     "text": [
      "xxxxxx\n",
      "x    x\n",
      "x    x\n",
      "x    x\n",
      "x    x\n",
      "xxxxxx\n"
     ]
    }
   ],
   "source": [
    "n = int(input(\"Enter the side length of the square: \"))\n",
    "\n",
    "for i in range(n):\n",
    "    if i == 0 or i == (n-1):\n",
    "        print('x' * n)\n",
    "    else:\n",
    "        print('x' + ' ' * (n-2) + 'x')"
   ]
  },
  {
   "cell_type": "markdown",
   "metadata": {},
   "source": [
    "### Lab 2 Exercise 4\n",
    "#### Generate an inverted right triangle of height n."
   ]
  },
  {
   "cell_type": "code",
   "execution_count": 6,
   "metadata": {},
   "outputs": [
    {
     "name": "stdout",
     "output_type": "stream",
     "text": [
      "******\n",
      "*****\n",
      "****\n",
      "***\n",
      "**\n",
      "*\n"
     ]
    }
   ],
   "source": [
    "height = int(input(\"Enter the height of the triangle\"))\n",
    "\n",
    "for i in range(height, 0, -1):\n",
    "    print('*' * i)"
   ]
  }
 ],
 "metadata": {
  "kernelspec": {
   "display_name": "Python 3",
   "language": "python",
   "name": "python3"
  },
  "language_info": {
   "codemirror_mode": {
    "name": "ipython",
    "version": 3
   },
   "file_extension": ".py",
   "mimetype": "text/x-python",
   "name": "python",
   "nbconvert_exporter": "python",
   "pygments_lexer": "ipython3",
   "version": "3.11.9"
  }
 },
 "nbformat": 4,
 "nbformat_minor": 2
}
